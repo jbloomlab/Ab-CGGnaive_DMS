{
 "cells": [
  {
   "cell_type": "markdown",
   "id": "91c095f6",
   "metadata": {},
   "source": [
    "# High potential mouse design\n",
    "\n",
    "Picking mutations that don't modify scores substantially, but make high-effect mutations accessible with one mutation."
   ]
  },
  {
   "cell_type": "code",
   "execution_count": 1,
   "id": "fd74b141",
   "metadata": {},
   "outputs": [],
   "source": [
    "import pandas as pd\n",
    "pd.options.display.max_columns = None\n",
    "import matplotlib.pyplot as plt\n",
    "import seaborn as sns"
   ]
  },
  {
   "cell_type": "markdown",
   "id": "a5b66feb",
   "metadata": {},
   "source": [
    "Full variant score table\n",
    "--"
   ]
  },
  {
   "cell_type": "code",
   "execution_count": 2,
   "id": "f7d0013d",
   "metadata": {},
   "outputs": [
    {
     "data": {
      "text/html": [
       "<div>\n",
       "<style scoped>\n",
       "    .dataframe tbody tr th:only-of-type {\n",
       "        vertical-align: middle;\n",
       "    }\n",
       "\n",
       "    .dataframe tbody tr th {\n",
       "        vertical-align: top;\n",
       "    }\n",
       "\n",
       "    .dataframe thead th {\n",
       "        text-align: right;\n",
       "    }\n",
       "</style>\n",
       "<table border=\"1\" class=\"dataframe\">\n",
       "  <thead>\n",
       "    <tr style=\"text-align: right;\">\n",
       "      <th></th>\n",
       "      <th>target</th>\n",
       "      <th>wildtype</th>\n",
       "      <th>position</th>\n",
       "      <th>position_IMTG</th>\n",
       "      <th>chain</th>\n",
       "      <th>mutant</th>\n",
       "      <th>mutation</th>\n",
       "      <th>codon</th>\n",
       "      <th>single_nt</th>\n",
       "      <th>bind</th>\n",
       "      <th>delta_bind</th>\n",
       "      <th>n_bc_bind</th>\n",
       "      <th>n_libs_bind</th>\n",
       "      <th>expr</th>\n",
       "      <th>delta_expr</th>\n",
       "      <th>n_bc_expr</th>\n",
       "      <th>n_libs_expr</th>\n",
       "      <th>psr</th>\n",
       "      <th>delta_psr</th>\n",
       "      <th>n_bc_psr</th>\n",
       "      <th>n_libs_psr</th>\n",
       "    </tr>\n",
       "  </thead>\n",
       "  <tbody>\n",
       "    <tr>\n",
       "      <th>0</th>\n",
       "      <td>CGG_naive</td>\n",
       "      <td>E</td>\n",
       "      <td>1</td>\n",
       "      <td>1.0</td>\n",
       "      <td>H</td>\n",
       "      <td>A</td>\n",
       "      <td>E1(H)A</td>\n",
       "      <td>GAG</td>\n",
       "      <td>True</td>\n",
       "      <td>10.48829</td>\n",
       "      <td>0.03110</td>\n",
       "      <td>15.0</td>\n",
       "      <td>2.0</td>\n",
       "      <td>10.44614</td>\n",
       "      <td>-0.00453</td>\n",
       "      <td>19.0</td>\n",
       "      <td>2.0</td>\n",
       "      <td>6.78608</td>\n",
       "      <td>-0.07452</td>\n",
       "      <td>17.0</td>\n",
       "      <td>2.0</td>\n",
       "    </tr>\n",
       "    <tr>\n",
       "      <th>1</th>\n",
       "      <td>CGG_naive</td>\n",
       "      <td>E</td>\n",
       "      <td>1</td>\n",
       "      <td>1.0</td>\n",
       "      <td>H</td>\n",
       "      <td>C</td>\n",
       "      <td>E1(H)C</td>\n",
       "      <td>GAG</td>\n",
       "      <td>False</td>\n",
       "      <td>10.44477</td>\n",
       "      <td>-0.01243</td>\n",
       "      <td>19.0</td>\n",
       "      <td>2.0</td>\n",
       "      <td>10.32364</td>\n",
       "      <td>-0.12703</td>\n",
       "      <td>20.0</td>\n",
       "      <td>2.0</td>\n",
       "      <td>7.44234</td>\n",
       "      <td>0.58174</td>\n",
       "      <td>17.0</td>\n",
       "      <td>2.0</td>\n",
       "    </tr>\n",
       "    <tr>\n",
       "      <th>2</th>\n",
       "      <td>CGG_naive</td>\n",
       "      <td>E</td>\n",
       "      <td>1</td>\n",
       "      <td>1.0</td>\n",
       "      <td>H</td>\n",
       "      <td>D</td>\n",
       "      <td>E1(H)D</td>\n",
       "      <td>GAG</td>\n",
       "      <td>True</td>\n",
       "      <td>10.42771</td>\n",
       "      <td>-0.02948</td>\n",
       "      <td>13.0</td>\n",
       "      <td>2.0</td>\n",
       "      <td>10.51618</td>\n",
       "      <td>0.06551</td>\n",
       "      <td>16.0</td>\n",
       "      <td>2.0</td>\n",
       "      <td>6.95940</td>\n",
       "      <td>0.09880</td>\n",
       "      <td>13.0</td>\n",
       "      <td>2.0</td>\n",
       "    </tr>\n",
       "    <tr>\n",
       "      <th>3</th>\n",
       "      <td>CGG_naive</td>\n",
       "      <td>E</td>\n",
       "      <td>1</td>\n",
       "      <td>1.0</td>\n",
       "      <td>H</td>\n",
       "      <td>E</td>\n",
       "      <td>E1(H)E</td>\n",
       "      <td>GAG</td>\n",
       "      <td>True</td>\n",
       "      <td>10.45719</td>\n",
       "      <td>0.00000</td>\n",
       "      <td>17528.0</td>\n",
       "      <td>2.0</td>\n",
       "      <td>10.45067</td>\n",
       "      <td>0.00000</td>\n",
       "      <td>21170.0</td>\n",
       "      <td>2.0</td>\n",
       "      <td>6.86060</td>\n",
       "      <td>0.00000</td>\n",
       "      <td>18910.0</td>\n",
       "      <td>2.0</td>\n",
       "    </tr>\n",
       "    <tr>\n",
       "      <th>4</th>\n",
       "      <td>CGG_naive</td>\n",
       "      <td>E</td>\n",
       "      <td>1</td>\n",
       "      <td>1.0</td>\n",
       "      <td>H</td>\n",
       "      <td>F</td>\n",
       "      <td>E1(H)F</td>\n",
       "      <td>GAG</td>\n",
       "      <td>False</td>\n",
       "      <td>10.51899</td>\n",
       "      <td>0.06180</td>\n",
       "      <td>20.0</td>\n",
       "      <td>2.0</td>\n",
       "      <td>10.33163</td>\n",
       "      <td>-0.11904</td>\n",
       "      <td>24.0</td>\n",
       "      <td>2.0</td>\n",
       "      <td>6.91372</td>\n",
       "      <td>0.05313</td>\n",
       "      <td>21.0</td>\n",
       "      <td>2.0</td>\n",
       "    </tr>\n",
       "    <tr>\n",
       "      <th>...</th>\n",
       "      <td>...</td>\n",
       "      <td>...</td>\n",
       "      <td>...</td>\n",
       "      <td>...</td>\n",
       "      <td>...</td>\n",
       "      <td>...</td>\n",
       "      <td>...</td>\n",
       "      <td>...</td>\n",
       "      <td>...</td>\n",
       "      <td>...</td>\n",
       "      <td>...</td>\n",
       "      <td>...</td>\n",
       "      <td>...</td>\n",
       "      <td>...</td>\n",
       "      <td>...</td>\n",
       "      <td>...</td>\n",
       "      <td>...</td>\n",
       "      <td>...</td>\n",
       "      <td>...</td>\n",
       "      <td>...</td>\n",
       "      <td>...</td>\n",
       "    </tr>\n",
       "    <tr>\n",
       "      <th>4735</th>\n",
       "      <td>CGG_naive</td>\n",
       "      <td>NaN</td>\n",
       "      <td>121</td>\n",
       "      <td>NaN</td>\n",
       "      <td>link</td>\n",
       "      <td>S</td>\n",
       "      <td>NANA(link)S</td>\n",
       "      <td>NaN</td>\n",
       "      <td>NaN</td>\n",
       "      <td>NaN</td>\n",
       "      <td>NaN</td>\n",
       "      <td>NaN</td>\n",
       "      <td>NaN</td>\n",
       "      <td>NaN</td>\n",
       "      <td>NaN</td>\n",
       "      <td>NaN</td>\n",
       "      <td>NaN</td>\n",
       "      <td>NaN</td>\n",
       "      <td>NaN</td>\n",
       "      <td>NaN</td>\n",
       "      <td>NaN</td>\n",
       "    </tr>\n",
       "    <tr>\n",
       "      <th>4736</th>\n",
       "      <td>CGG_naive</td>\n",
       "      <td>NaN</td>\n",
       "      <td>121</td>\n",
       "      <td>NaN</td>\n",
       "      <td>link</td>\n",
       "      <td>T</td>\n",
       "      <td>NANA(link)T</td>\n",
       "      <td>NaN</td>\n",
       "      <td>NaN</td>\n",
       "      <td>NaN</td>\n",
       "      <td>NaN</td>\n",
       "      <td>NaN</td>\n",
       "      <td>NaN</td>\n",
       "      <td>NaN</td>\n",
       "      <td>NaN</td>\n",
       "      <td>NaN</td>\n",
       "      <td>NaN</td>\n",
       "      <td>NaN</td>\n",
       "      <td>NaN</td>\n",
       "      <td>NaN</td>\n",
       "      <td>NaN</td>\n",
       "    </tr>\n",
       "    <tr>\n",
       "      <th>4737</th>\n",
       "      <td>CGG_naive</td>\n",
       "      <td>NaN</td>\n",
       "      <td>121</td>\n",
       "      <td>NaN</td>\n",
       "      <td>link</td>\n",
       "      <td>V</td>\n",
       "      <td>NANA(link)V</td>\n",
       "      <td>NaN</td>\n",
       "      <td>NaN</td>\n",
       "      <td>NaN</td>\n",
       "      <td>NaN</td>\n",
       "      <td>NaN</td>\n",
       "      <td>NaN</td>\n",
       "      <td>NaN</td>\n",
       "      <td>NaN</td>\n",
       "      <td>NaN</td>\n",
       "      <td>NaN</td>\n",
       "      <td>NaN</td>\n",
       "      <td>NaN</td>\n",
       "      <td>NaN</td>\n",
       "      <td>NaN</td>\n",
       "    </tr>\n",
       "    <tr>\n",
       "      <th>4738</th>\n",
       "      <td>CGG_naive</td>\n",
       "      <td>NaN</td>\n",
       "      <td>121</td>\n",
       "      <td>NaN</td>\n",
       "      <td>link</td>\n",
       "      <td>W</td>\n",
       "      <td>NANA(link)W</td>\n",
       "      <td>NaN</td>\n",
       "      <td>NaN</td>\n",
       "      <td>NaN</td>\n",
       "      <td>NaN</td>\n",
       "      <td>NaN</td>\n",
       "      <td>NaN</td>\n",
       "      <td>NaN</td>\n",
       "      <td>NaN</td>\n",
       "      <td>NaN</td>\n",
       "      <td>NaN</td>\n",
       "      <td>NaN</td>\n",
       "      <td>NaN</td>\n",
       "      <td>NaN</td>\n",
       "      <td>NaN</td>\n",
       "    </tr>\n",
       "    <tr>\n",
       "      <th>4739</th>\n",
       "      <td>CGG_naive</td>\n",
       "      <td>NaN</td>\n",
       "      <td>121</td>\n",
       "      <td>NaN</td>\n",
       "      <td>link</td>\n",
       "      <td>Y</td>\n",
       "      <td>NANA(link)Y</td>\n",
       "      <td>NaN</td>\n",
       "      <td>NaN</td>\n",
       "      <td>NaN</td>\n",
       "      <td>NaN</td>\n",
       "      <td>NaN</td>\n",
       "      <td>NaN</td>\n",
       "      <td>NaN</td>\n",
       "      <td>NaN</td>\n",
       "      <td>NaN</td>\n",
       "      <td>NaN</td>\n",
       "      <td>NaN</td>\n",
       "      <td>NaN</td>\n",
       "      <td>NaN</td>\n",
       "      <td>NaN</td>\n",
       "    </tr>\n",
       "  </tbody>\n",
       "</table>\n",
       "<p>4740 rows × 21 columns</p>\n",
       "</div>"
      ],
      "text/plain": [
       "         target wildtype  position  position_IMTG chain mutant     mutation  \\\n",
       "0     CGG_naive        E         1            1.0     H      A       E1(H)A   \n",
       "1     CGG_naive        E         1            1.0     H      C       E1(H)C   \n",
       "2     CGG_naive        E         1            1.0     H      D       E1(H)D   \n",
       "3     CGG_naive        E         1            1.0     H      E       E1(H)E   \n",
       "4     CGG_naive        E         1            1.0     H      F       E1(H)F   \n",
       "...         ...      ...       ...            ...   ...    ...          ...   \n",
       "4735  CGG_naive      NaN       121            NaN  link      S  NANA(link)S   \n",
       "4736  CGG_naive      NaN       121            NaN  link      T  NANA(link)T   \n",
       "4737  CGG_naive      NaN       121            NaN  link      V  NANA(link)V   \n",
       "4738  CGG_naive      NaN       121            NaN  link      W  NANA(link)W   \n",
       "4739  CGG_naive      NaN       121            NaN  link      Y  NANA(link)Y   \n",
       "\n",
       "     codon single_nt      bind  delta_bind  n_bc_bind  n_libs_bind      expr  \\\n",
       "0      GAG      True  10.48829     0.03110       15.0          2.0  10.44614   \n",
       "1      GAG     False  10.44477    -0.01243       19.0          2.0  10.32364   \n",
       "2      GAG      True  10.42771    -0.02948       13.0          2.0  10.51618   \n",
       "3      GAG      True  10.45719     0.00000    17528.0          2.0  10.45067   \n",
       "4      GAG     False  10.51899     0.06180       20.0          2.0  10.33163   \n",
       "...    ...       ...       ...         ...        ...          ...       ...   \n",
       "4735   NaN       NaN       NaN         NaN        NaN          NaN       NaN   \n",
       "4736   NaN       NaN       NaN         NaN        NaN          NaN       NaN   \n",
       "4737   NaN       NaN       NaN         NaN        NaN          NaN       NaN   \n",
       "4738   NaN       NaN       NaN         NaN        NaN          NaN       NaN   \n",
       "4739   NaN       NaN       NaN         NaN        NaN          NaN       NaN   \n",
       "\n",
       "      delta_expr  n_bc_expr  n_libs_expr      psr  delta_psr  n_bc_psr  \\\n",
       "0       -0.00453       19.0          2.0  6.78608   -0.07452      17.0   \n",
       "1       -0.12703       20.0          2.0  7.44234    0.58174      17.0   \n",
       "2        0.06551       16.0          2.0  6.95940    0.09880      13.0   \n",
       "3        0.00000    21170.0          2.0  6.86060    0.00000   18910.0   \n",
       "4       -0.11904       24.0          2.0  6.91372    0.05313      21.0   \n",
       "...          ...        ...          ...      ...        ...       ...   \n",
       "4735         NaN        NaN          NaN      NaN        NaN       NaN   \n",
       "4736         NaN        NaN          NaN      NaN        NaN       NaN   \n",
       "4737         NaN        NaN          NaN      NaN        NaN       NaN   \n",
       "4738         NaN        NaN          NaN      NaN        NaN       NaN   \n",
       "4739         NaN        NaN          NaN      NaN        NaN       NaN   \n",
       "\n",
       "      n_libs_psr  \n",
       "0            2.0  \n",
       "1            2.0  \n",
       "2            2.0  \n",
       "3            2.0  \n",
       "4            2.0  \n",
       "...          ...  \n",
       "4735         NaN  \n",
       "4736         NaN  \n",
       "4737         NaN  \n",
       "4738         NaN  \n",
       "4739         NaN  \n",
       "\n",
       "[4740 rows x 21 columns]"
      ]
     },
     "execution_count": 2,
     "metadata": {},
     "output_type": "execute_result"
    }
   ],
   "source": [
    "df = pd.read_csv(\"results/final_variant_scores/final_variant_scores.csv\")\n",
    "df"
   ]
  },
  {
   "cell_type": "markdown",
   "id": "ba674e5b",
   "metadata": {},
   "source": [
    "Gabriel's proposed mutations\n",
    "--"
   ]
  },
  {
   "cell_type": "code",
   "execution_count": 3,
   "id": "6607bab6",
   "metadata": {},
   "outputs": [],
   "source": [
    "high_potential_design = \"\"\"\n",
    "W41(H)L\n",
    "Y58(H)H\n",
    "T101(H)S\n",
    "Y103(H)F\n",
    "Y66(L)H\n",
    "P50(L)L\n",
    "Q105(L)N\n",
    "D74(L)E\n",
    "\"\"\".split()"
   ]
  },
  {
   "cell_type": "code",
   "execution_count": 4,
   "id": "b75563a3",
   "metadata": {},
   "outputs": [],
   "source": [
    "df[\"label\"] = \"other\"\n",
    "df.loc[df.mutation.isin(high_potential_design), \"label\"] = \"high potential\""
   ]
  },
  {
   "cell_type": "markdown",
   "id": "07633ced",
   "metadata": {},
   "source": [
    "Predicted binding, expression, and polyspecificity, assuming additivity of mutation effects\n",
    "--"
   ]
  },
  {
   "cell_type": "code",
   "execution_count": 5,
   "id": "98603772",
   "metadata": {},
   "outputs": [
    {
     "data": {
      "text/plain": [
       "0.17145000000000002"
      ]
     },
     "execution_count": 5,
     "metadata": {},
     "output_type": "execute_result"
    }
   ],
   "source": [
    "sum(df[df.label == \"high potential\"].delta_bind)"
   ]
  },
  {
   "cell_type": "code",
   "execution_count": 6,
   "id": "8680867d",
   "metadata": {},
   "outputs": [
    {
     "data": {
      "text/plain": [
       "-0.33835000000000004"
      ]
     },
     "execution_count": 6,
     "metadata": {},
     "output_type": "execute_result"
    }
   ],
   "source": [
    "sum(df[df.label == \"high potential\"].delta_expr)"
   ]
  },
  {
   "cell_type": "code",
   "execution_count": 7,
   "id": "dd343f59",
   "metadata": {},
   "outputs": [
    {
     "data": {
      "text/plain": [
       "0.94715"
      ]
     },
     "execution_count": 7,
     "metadata": {},
     "output_type": "execute_result"
    }
   ],
   "source": [
    "sum(df[df.label == \"high potential\"].delta_psr)"
   ]
  },
  {
   "cell_type": "markdown",
   "id": "1be5f141",
   "metadata": {},
   "source": [
    "Target mutations that are accessible after the designed mutations\n",
    "--"
   ]
  },
  {
   "cell_type": "code",
   "execution_count": 8,
   "id": "e3d94ca4",
   "metadata": {},
   "outputs": [],
   "source": [
    "target_mutations = \"\"\"\n",
    "W41(H)V\n",
    "Y58(H)P\n",
    "T101(H)Y\n",
    "Y103(H)I\n",
    "Y66(L)R\n",
    "P50(L)W\n",
    "Q105(L)Y\n",
    "D74(L)K\n",
    "\"\"\".split()"
   ]
  },
  {
   "cell_type": "code",
   "execution_count": 9,
   "id": "5331781e",
   "metadata": {},
   "outputs": [],
   "source": [
    "df.loc[df.mutation.isin(target_mutations), \"label\"] = \"newly accessible\""
   ]
  },
  {
   "cell_type": "markdown",
   "id": "140ffbba",
   "metadata": {},
   "source": [
    "Predicted binding, expression, and polyspecificity of target mutations, assuming additivity of mutation effects\n",
    "--"
   ]
  },
  {
   "cell_type": "code",
   "execution_count": 10,
   "id": "43e3e85a",
   "metadata": {},
   "outputs": [
    {
     "data": {
      "text/plain": [
       "4.93668"
      ]
     },
     "execution_count": 10,
     "metadata": {},
     "output_type": "execute_result"
    }
   ],
   "source": [
    "sum(df[df.label == \"newly accessible\"].delta_bind)"
   ]
  },
  {
   "cell_type": "code",
   "execution_count": 11,
   "id": "81fac47c",
   "metadata": {},
   "outputs": [
    {
     "data": {
      "text/plain": [
       "-0.17146999999999996"
      ]
     },
     "execution_count": 11,
     "metadata": {},
     "output_type": "execute_result"
    }
   ],
   "source": [
    "sum(df[df.label == \"newly accessible\"].delta_expr)"
   ]
  },
  {
   "cell_type": "code",
   "execution_count": 12,
   "id": "95c65ddc",
   "metadata": {},
   "outputs": [
    {
     "data": {
      "text/plain": [
       "2.8328800000000003"
      ]
     },
     "execution_count": 12,
     "metadata": {},
     "output_type": "execute_result"
    }
   ],
   "source": [
    "sum(df[df.label == \"newly accessible\"].delta_psr)"
   ]
  },
  {
   "cell_type": "code",
   "execution_count": 13,
   "id": "9e4bb260",
   "metadata": {},
   "outputs": [
    {
     "data": {
      "image/png": "[encoded data removed]",
      "text/plain": [
       "<Figure size 640x480 with 1 Axes>"
      ]
     },
     "metadata": {},
     "output_type": "display_data"
    },
    {
     "data": {
      "image/png": "[encoded data removed]",
      "text/plain": [
       "<Figure size 640x480 with 1 Axes>"
      ]
     },
     "metadata": {},
     "output_type": "display_data"
    },
    {
     "data": {
      "image/png": "[encoded data removed]",
      "text/plain": [
       "<Figure size 640x480 with 1 Axes>"
      ]
     },
     "metadata": {},
     "output_type": "display_data"
    }
   ],
   "source": [
    "for phenotype in (\"delta_bind\", \"delta_expr\", \"delta_psr\"):\n",
    "    sns.histplot(data=df, x=phenotype, color=\"lightgrey\")\n",
    "    sns.rugplot(data=df[df.label != \"other\"], x=phenotype, hue=\"label\", height=0.1)\n",
    "    plt.show()"
   ]
  },
  {
   "cell_type": "code",
   "execution_count": null,
   "id": "c552d0a3",
   "metadata": {},
   "outputs": [],
   "source": []
  }
 ],
 "metadata": {
  "kernelspec": {
   "display_name": "Python 3",
   "language": "python",
   "name": "python3"
  },
  "language_info": {
   "codemirror_mode": {
    "name": "ipython",
    "version": 3
   },
   "file_extension": ".py",
   "mimetype": "text/x-python",
   "name": "python",
   "nbconvert_exporter": "python",
   "pygments_lexer": "ipython3",
   "version": "3.7.7"
  }
 },
 "nbformat": 4,
 "nbformat_minor": 5
}
